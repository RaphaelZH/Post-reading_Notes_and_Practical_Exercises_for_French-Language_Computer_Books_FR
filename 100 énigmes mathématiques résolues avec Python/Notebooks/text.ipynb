{
 "cells": [
  {
   "cell_type": "code",
   "execution_count": 6,
   "metadata": {},
   "outputs": [],
   "source": [
    "import itertools\n",
    "import math"
   ]
  },
  {
   "cell_type": "code",
   "execution_count": 7,
   "metadata": {},
   "outputs": [
    {
     "name": "stdout",
     "output_type": "stream",
     "text": [
      "1681\n"
     ]
    }
   ],
   "source": [
    "for i, j in itertools.product(range(4, 10), range(4, 10)):\n",
    "    if math.sqrt(i ** 2 * 100 + j ** 2).is_integer():\n",
    "        print(i ** 2 * 100 + j ** 2)"
   ]
  },
  {
   "cell_type": "code",
   "execution_count": 8,
   "metadata": {},
   "outputs": [
    {
     "name": "stdout",
     "output_type": "stream",
     "text": [
      "60996100\n"
     ]
    }
   ],
   "source": [
    "for i in range(1000, 9998):\n",
    "    if math.sqrt(i * 10000 + i + 1).is_integer():\n",
    "        print(i * 10000 + i + 1)"
   ]
  },
  {
   "cell_type": "code",
   "execution_count": 26,
   "metadata": {},
   "outputs": [
    {
     "name": "stdout",
     "output_type": "stream",
     "text": [
      "567 321489\n",
      "807 651249\n",
      "854 729316\n"
     ]
    }
   ],
   "source": [
    "def unequal_numbers(num, *args):\n",
    "    string_num = str(num)\n",
    "    for arg in args:\n",
    "        string_num += str(arg)\n",
    "    num_list = [int(x) for x in str(string_num)]\n",
    "    if len(num_list) == len(set(num_list)):\n",
    "        return True\n",
    "    else:\n",
    "        False\n",
    "\n",
    "for i in range(math.ceil(math.isqrt(100000)), math.isqrt(999999) + 1):\n",
    "    if unequal_numbers(i):\n",
    "        if unequal_numbers(i, i ** 2):\n",
    "            print(i, i ** 2)"
   ]
  },
  {
   "cell_type": "code",
   "execution_count": null,
   "metadata": {},
   "outputs": [],
   "source": []
  }
 ],
 "metadata": {
  "kernelspec": {
   "display_name": "venv-python3-10",
   "language": "python",
   "name": "python3"
  },
  "language_info": {
   "codemirror_mode": {
    "name": "ipython",
    "version": 3
   },
   "file_extension": ".py",
   "mimetype": "text/x-python",
   "name": "python",
   "nbconvert_exporter": "python",
   "pygments_lexer": "ipython3",
   "version": "3.11.4"
  }
 },
 "nbformat": 4,
 "nbformat_minor": 2
}
